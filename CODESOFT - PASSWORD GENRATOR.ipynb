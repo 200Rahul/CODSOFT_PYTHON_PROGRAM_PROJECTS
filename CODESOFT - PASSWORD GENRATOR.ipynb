{
 "cells": [
  {
   "cell_type": "markdown",
   "id": "53630330",
   "metadata": {},
   "source": [
    "## TASK - 2"
   ]
  },
  {
   "cell_type": "markdown",
   "id": "5fff31eb",
   "metadata": {},
   "source": [
    "## PASSWORD GENRATOR"
   ]
  },
  {
   "cell_type": "code",
   "execution_count": 3,
   "id": "fadca6d1",
   "metadata": {},
   "outputs": [],
   "source": [
    "import random\n",
    "import string"
   ]
  },
  {
   "cell_type": "code",
   "execution_count": 5,
   "id": "66f22e6d",
   "metadata": {},
   "outputs": [
    {
     "name": "stdout",
     "output_type": "stream",
     "text": [
      "Password Generator\n",
      "Enter the desired length of the password: 7\n",
      "Generated Password : eI>5e!R\n"
     ]
    }
   ],
   "source": [
    "def generate_password(length):\n",
    "    characters = string.ascii_letters + string.digits + string.punctuation\n",
    "    password = ''.join(random.choice(characters) for _ in range(length))\n",
    "    return password\n",
    "def main():\n",
    "    print(\"Password Generator\")\n",
    "    while True:\n",
    "        try:\n",
    "            length = int(input(\"Enter the desired length of the password: \"))\n",
    "            if length <= 0:\n",
    "                print(\"Password length should be greater than 0. Please try again.\")\n",
    "            else:\n",
    "                password = generate_password(length)\n",
    "                print(\"Generated Password :\", password)\n",
    "                break\n",
    "        except ValueError:\n",
    "            print(\"Invalid input. Please enter a valid number for the password length.\")\n",
    "\n",
    "if __name__ == \"__main__\":\n",
    "    main()\n"
   ]
  },
  {
   "cell_type": "code",
   "execution_count": null,
   "id": "0a5493ea",
   "metadata": {},
   "outputs": [],
   "source": []
  }
 ],
 "metadata": {
  "kernelspec": {
   "display_name": "Python 3 (ipykernel)",
   "language": "python",
   "name": "python3"
  },
  "language_info": {
   "codemirror_mode": {
    "name": "ipython",
    "version": 3
   },
   "file_extension": ".py",
   "mimetype": "text/x-python",
   "name": "python",
   "nbconvert_exporter": "python",
   "pygments_lexer": "ipython3",
   "version": "3.10.9"
  }
 },
 "nbformat": 4,
 "nbformat_minor": 5
}
